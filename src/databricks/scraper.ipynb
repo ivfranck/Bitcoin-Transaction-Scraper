{
 "cells": [
  {
   "cell_type": "code",
   "execution_count": 0,
   "metadata": {
    "application/vnd.databricks.v1+cell": {
     "cellMetadata": {},
     "inputWidgets": {},
     "nuid": "d1211b9e-3b0b-45bd-90a3-164b4a61a726",
     "showTitle": false,
     "title": ""
    }
   },
   "outputs": [],
   "source": [
    "import logging\n",
    "import requests\n",
    "from typing import Any\n",
    "from bs4 import BeautifulSoup\n",
    "\n",
    "def scrape():\n",
    "    URL = \"https://www.blockchain.com/explorer/mempool/btc\"\n",
    "\n",
    "    transactions = []\n",
    "\n",
    "    logging.info(f\"Scraping website: {URL}\")\n",
    "    try:\n",
    "        req = requests.get(URL)\n",
    "    except Exception as e:\n",
    "        logging.error(f\"Failed request. Error:{e}\")\n",
    "\n",
    "    soup = BeautifulSoup(req.text, \"html.parser\")\n",
    "\n",
    "    div = soup.find('div', {'class': 'sc-7b53084c-1 czXdjN'})\n",
    "    a_tags = div.findAll('a')\n",
    "\n",
    "    for tag in a_tags:\n",
    "        # hashid\n",
    "        hash_id = tag.get('href').split(\"btc/\")[1]\n",
    "\n",
    "        # hash\n",
    "        hash_tag = tag.find('div', {'class': 'sc-35e7dcf5-5 ozZoF'})\n",
    "        hash = hash_tag.text.split(' ')[1]\n",
    "\n",
    "        # date time\n",
    "        dt = tag.find('div', {'class': 'sc-35e7dcf5-7 fFAyKv'})\n",
    "        date_time = dt.text.split(', ')\n",
    "        date = date_time[0]\n",
    "        time = date_time[1]\n",
    "\n",
    "        # btc\n",
    "        btc_tag = tag.find('div', {'class': 'sc-35e7dcf5-13 isCUBz'})\n",
    "        btc = btc_tag.text.split(' ')[0]\n",
    "        if ',' in btc:\n",
    "            btc = btc.replace(',', '')\n",
    "\n",
    "        # dol\n",
    "        dol_tag = tag.find('div', {'class': 'sc-35e7dcf5-14 bbQxqN'})\n",
    "        dol = dol_tag.text[1:]\n",
    "        if ',' in dol:\n",
    "            dol = dol.replace(',', '')\n",
    "\n",
    "        hash_obj = {\n",
    "            \"hash_id\": hash_id,\n",
    "            \"hash_short\": hash,\n",
    "            \"output_value_btc\": float(btc),\n",
    "            \"output_value_dollars\": float(dol),\n",
    "            \"date\": date,\n",
    "            \"time\": time\n",
    "        }\n",
    "        transactions.append(hash_obj)\n",
    "    return transactions"
   ]
  },
  {
   "cell_type": "code",
   "execution_count": 0,
   "metadata": {
    "application/vnd.databricks.v1+cell": {
     "cellMetadata": {},
     "inputWidgets": {},
     "nuid": "0931eaff-83c0-4190-90ce-b7a08662f491",
     "showTitle": false,
     "title": ""
    }
   },
   "outputs": [],
   "source": [
    "import json\n",
    "import datetime\n",
    "\n",
    "checkpoint = datetime.datetime.now().isoformat().split('.')[0]\n",
    "data = scrape()\n",
    "json_data = json.dumps(data)\n",
    "output_path = f\"/mnt/transactions/new/{checkpoint}.json\""
   ]
  },
  {
   "cell_type": "code",
   "execution_count": 0,
   "metadata": {
    "application/vnd.databricks.v1+cell": {
     "cellMetadata": {},
     "inputWidgets": {},
     "nuid": "0987d570-a267-4ca7-8fe8-d6a77db89e4c",
     "showTitle": false,
     "title": ""
    }
   },
   "outputs": [],
   "source": [
    "dbutils.fs.put(output_path, json_data, overwrite=True)\n"
   ]
  }
 ],
 "metadata": {
  "application/vnd.databricks.v1+notebook": {
   "dashboards": [],
   "environmentMetadata": null,
   "language": "python",
   "notebookMetadata": {
    "pythonIndentUnit": 4
   },
   "notebookName": "scraper",
   "widgets": {}
  }
 },
 "nbformat": 4,
 "nbformat_minor": 0
}
